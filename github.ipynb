{
 "cells": [
  {
   "cell_type": "markdown",
   "id": "69d300eb",
   "metadata": {
    "language_info": {
     "name": "polyglot-notebook"
    },
    "polyglot_notebook": {
     "kernelName": "csharp"
    }
   },
   "source": [
    "# MCP Authentication Flow - Illustrated\n",
    "\n",
    "This notebook illustrates the end-to-end authentication flow for Model Context Protocol (MCP). The flow involves several key steps, including metadata discovery and parsing, client registration, user authentication, token generation, and access validation.\n",
    "\n",
    "A descripition of this flow is available in the [MCP Authentication Documentation](https://modelcontextprotocol.io/docs/tutorials/security/authorization).\n",
    "\n",
    "This notebook illustrates the authentication flow with the [GitHub MCP Server].\n",
    "\n",
    "[GitHub MCP Server]: https://github.com/github/github-mcp-server?tab=readme-ov-file#remote-github-mcp-server"
   ]
  },
  {
   "cell_type": "code",
   "execution_count": 9,
   "id": "9bfc3822",
   "metadata": {
    "language_info": {
     "name": "polyglot-notebook"
    },
    "polyglot_notebook": {
     "kernelName": "pwsh"
    }
   },
   "outputs": [],
   "source": [
    "$env:McpServer = \"https://api.githubcopilot.com/mcp/\""
   ]
  },
  {
   "cell_type": "markdown",
   "id": "802e0d8f",
   "metadata": {},
   "source": [
    "## Step 1 - Initial Handshake\n",
    "\n",
    "The initial handshake begins when a client application attempts to access a protected resource on the MCP server. The server responds with 401 Unauthorized status code and provides the client with the MCP metadata URL in the `WWW-Authenticate` header.\n"
   ]
  },
  {
   "cell_type": "code",
   "execution_count": 10,
   "id": "74e72ba7",
   "metadata": {
    "language_info": {
     "name": "polyglot-notebook"
    },
    "polyglot_notebook": {
     "kernelName": "pwsh"
    }
   },
   "outputs": [
    {
     "name": "stdout",
     "output_type": "stream",
     "text": [
      "HTTP/2 401 \n",
      "content-security-policy: default-src 'none'; sandbox\n",
      "content-security-policy: default-src 'none'; sandbox\n",
      "content-type: text/plain; charset=utf-8\n",
      "content-type: text/plain; charset=utf-8\n",
      "strict-transport-security: max-age=31536000\n",
      "strict-transport-security: max-age=31536000\n",
      "www-authenticate: Bearer error=\"invalid_request\", error_description=\"No access token was provided in this request\", resource_metadata=\"https://api.githubcopilot.com/.well-known/oauth-protected-resource/mcp/\"\n",
      "www-authenticate: Bearer error=\"invalid_request\", error_description=\"No access token was provided in this request\", resource_metadata=\"https://api.githubcopilot.com/.well-known/oauth-protected-resource/mcp/\"\n",
      "x-content-type-options: nosniff\n",
      "x-content-type-options: nosniff\n",
      "date: Tue, 21 Oct 2025 05:10:50 GMT\n",
      "date: Tue, 21 Oct 2025 05:10:50 GMT\n",
      "content-length: 51\n",
      "content-length: 51\n",
      "x-github-backend: Kubernetes\n",
      "x-github-backend: Kubernetes\n",
      "x-github-request-id: CB07:11ABB6:1923FC5:1EFB149:68F715DA\n",
      "x-github-request-id: CB07:11ABB6:1923FC5:1EFB149:68F715DA\n",
      "\n",
      "\n",
      "bad request: missing required Authorization header\n",
      "bad request: missing required Authorization header\n"
     ]
    }
   ],
   "source": [
    "curl -s -D - -X POST `\n",
    "  -H \"Content-Type: application/json\" `\n",
    "  -H \"Accept: application/json, text/event-stream\" `\n",
    "  -d '{\n",
    "    \"jsonrpc\": \"2.0\",\n",
    "    \"id\": 1,\n",
    "    \"method\": \"ping\"\n",
    "}' `\n",
    " \"$env:McpServer\""
   ]
  },
  {
   "cell_type": "markdown",
   "id": "a178d205",
   "metadata": {},
   "source": [
    "## Step 2 - Protected Resource Metadata Discovery\n",
    "\n",
    "When receiving a 401 response in Step 1, the client extracts the MCP metadata URL from the `WWW-Authenticate` header. Then it sends a GET request to this URL to retrieve the Protected Resource Metadata (PRM) document, which contains information about the authentication server(s) that can be used to authenticate and obtain access tokens."
   ]
  },
  {
   "cell_type": "code",
   "execution_count": 11,
   "id": "d6c7dec4",
   "metadata": {
    "language_info": {
     "name": "polyglot-notebook"
    },
    "polyglot_notebook": {
     "kernelName": "pwsh"
    }
   },
   "outputs": [
    {
     "name": "stdout",
     "output_type": "stream",
     "text": [
      "{\n",
      "  \"resource_name\": \"GitHub MCP Server\",\n",
      "  \"resource_name\": \"GitHub MCP Server\",\n",
      "  \"resource\": \"https://api.githubcopilot.com/mcp\",\n",
      "  \"resource\": \"https://api.githubcopilot.com/mcp\",\n",
      "  \"authorization_servers\": [\"https://github.com/login/oauth\"],\n",
      "  \"authorization_servers\": [\"https://github.com/login/oauth\"],\n",
      "  \"bearer_methods_supported\": [\"header\"],\n",
      "  \"bearer_methods_supported\": [\"header\"],\n",
      "  \"scopes_supported\": [\n",
      "  \"scopes_supported\": [\n",
      "    \"gist\",\n",
      "    \"gist\",\n",
      "    \"notifications\",\n",
      "    \"notifications\",\n",
      "    \"public_repo\",\n",
      "    \"public_repo\",\n",
      "    \"repo\",\n",
      "    \"repo\",\n",
      "    \"repo:status\",\n",
      "    \"repo:status\",\n",
      "    \"repo_deployment\",\n",
      "    \"repo_deployment\",\n",
      "    \"user\",\n",
      "    \"user\",\n",
      "    \"user:email\",\n",
      "    \"user:email\",\n",
      "    \"user:follow\",\n",
      "    \"user:follow\",\n",
      "    \"read:gpg_key\",\n",
      "    \"read:gpg_key\",\n",
      "    \"read:org\",\n",
      "    \"read:org\",\n",
      "    \"project\"\n",
      "    \"project\"\n",
      "  ]\n",
      "  ]\n",
      "}\n",
      "}\n"
     ]
    }
   ],
   "source": [
    "curl -s -X GET `\n",
    "  -H \"Accept: application/json\" `\n",
    " \"https://api.githubcopilot.com/.well-known/oauth-protected-resource/mcp\""
   ]
  },
  {
   "cell_type": "markdown",
   "id": "5980dd7a",
   "metadata": {},
   "source": [
    "## Step 3 - Authorization Server Discovery\n",
    "\n",
    "The PRM document should include one or more authorization servers in the `authorization_servers` array. When there is more than one, the client can choose which one to use, but in this case there is only one available. Next, the client retrieves metadata for the authorization server. This could be either OpenID Connect (OIDC) discovery metadata or OAuth 2.0 Authorization Server Metadata, depending on what the authorization server supports. There's no clear indication in the PRM document of which type it is, so the client must try both methods.\n",
    "\n",
    "According to the [OIDC specification], the client appends `/.well-known/openid-configuration` to the \"issuer\" URL to get the OIDC discovery document. The client sends a GET request to this URL and receives the OIDC metadata in response. Unfortunately, at this point all we have is the authorization server's URL, so we'll just try to use that as the issuer URL and hope for the best.\n",
    "\n",
    "[OIDC specification]: https://openid.net/specs/openid-connect-discovery-1_0.html#ProviderConfig"
   ]
  },
  {
   "cell_type": "code",
   "execution_count": 12,
   "id": "6c9c77dd",
   "metadata": {
    "language_info": {
     "name": "polyglot-notebook"
    },
    "polyglot_notebook": {
     "kernelName": "pwsh"
    }
   },
   "outputs": [
    {
     "name": "stdout",
     "output_type": "stream",
     "text": [
      "{\n",
      "  \"issuer\": \"https://github.com\",\n",
      "  \"issuer\": \"https://github.com\",\n",
      "  \"jwks_uri\": \"https://github.com/login/oauth/.well-known/jwks\",\n",
      "  \"jwks_uri\": \"https://github.com/login/oauth/.well-known/jwks\",\n",
      "  \"subject_types_supported\": [\n",
      "  \"subject_types_supported\": [\n",
      "    \"public\"\n",
      "    \"public\"\n",
      "  ],\n",
      "  ],\n",
      "  \"response_types_supported\": [\n",
      "  \"response_types_supported\": [\n",
      "    \"code\",\n",
      "    \"code\",\n",
      "    \"id_token\"\n",
      "    \"id_token\"\n",
      "  ],\n",
      "  ],\n",
      "  \"claims_supported\": [\n",
      "  \"claims_supported\": [\n",
      "    \"sub\",\n",
      "    \"sub\",\n",
      "    \"aud\",\n",
      "    \"aud\",\n",
      "    \"exp\",\n",
      "    \"exp\",\n",
      "    \"nbf\",\n",
      "    \"nbf\",\n",
      "    \"iat\",\n",
      "    \"iat\",\n",
      "    \"iss\",\n",
      "    \"iss\",\n",
      "    \"act\"\n",
      "    \"act\"\n",
      "  ],\n",
      "  ],\n",
      "  \"id_token_signing_alg_values_supported\": [\n",
      "  \"id_token_signing_alg_values_supported\": [\n",
      "    \"RS256\"\n",
      "    \"RS256\"\n",
      "  ],\n",
      "  ],\n",
      "  \"scopes_supported\": [\n",
      "  \"scopes_supported\": [\n",
      "    \"openid\"\n",
      "    \"openid\"\n",
      "  ]\n",
      "  ]\n",
      "}\n",
      "}\n"
     ]
    }
   ],
   "source": [
    "$env:GitHub_MCP_Auth_Server = \"https://github.com/login/oauth\"\n",
    "$env:GitHub_MCP_OIDC_Metadata = \"$env:GitHub_MCP_Auth_Server/.well-known/openid-configuration\"\n",
    "\n",
    "curl -s -X GET `\n",
    "  -H \"Accept: application/json\" `\n",
    " \"$env:GitHub_MCP_OIDC_Metadata\" | jq ."
   ]
  },
  {
   "cell_type": "markdown",
   "id": "cdd6103e",
   "metadata": {},
   "source": [
    "What we are looking for in this metadata is the authorization endpoint, token endpoint, and supported scopes, which will be used in the subsequent steps of the authentication flow. And the scopes are clearly indicated in the `scopes_supported` field of the OIDC metadata.\n",
    "\n",
    "But we don't see the authorization endpoint or token endpoint in the OIDC metadata. In this case, the best approach, and the one that happens to work with GitHub, is to assume the standard OAuth 2.0 endpoint paths:\n",
    "- Authorization Endpoint: `{authorization_server_url}/authorize`\n",
    "- Token Endpoint: `{authorization_server_url}/access_token`"
   ]
  },
  {
   "cell_type": "code",
   "execution_count": 13,
   "id": "fd794402",
   "metadata": {
    "language_info": {
     "name": "polyglot-notebook"
    },
    "polyglot_notebook": {
     "kernelName": "pwsh"
    }
   },
   "outputs": [],
   "source": [
    "$env:Scopes = \"openid\"\n",
    "$env:AuthorizeEndpoint = \"$env:GitHub_MCP_Auth_Server/authorize\"\n",
    "$env:TokenEndpoint = \"$env:GitHub_MCP_Auth_Server/access_token\""
   ]
  },
  {
   "cell_type": "markdown",
   "id": "d7f7f2de",
   "metadata": {},
   "source": [
    "## Step 4 - Client Registration\n",
    "\n",
    "When the authorization server supports dynamic client registration, the authorization server metadata will include a `registration_endpoint` field. The client can use this endpoint to register itself with the authorization server by sending a POST request with its details, such as redirect URIs and client name. The server responds with a client ID and client secret, which the client will use in subsequent authentication requests.\n",
    "\n",
    "But GitHub does not support dynamic client registration, so instead we need to register our client application manually in the GitHub Developer Settings to obtain a client ID and client secret."
   ]
  },
  {
   "cell_type": "markdown",
   "id": "fecfb737",
   "metadata": {},
   "source": [
    "### Manual Client Registration\n",
    "\n",
    "Here are the steps to manually register a client application with GitHub:\n",
    "\n",
    "- Go to your GitHub account settings.\n",
    "- Navigate to Settings > Developer settings > OAuth Apps.\n",
    "- Click New OAuth App.\n",
    "- Fill in the required details (application name, homepage URL, callback URL).\n",
    "- After registering, GitHub will provide a client_id and a client_secret.\n",
    "\n",
    "If your application doesn’t have a homepage, you can use a placeholder URL (such as https://example.com) for the “Homepage URL” field when registering your GitHub OAuth App. This field is required, but it does not affect the OAuth flow.\n",
    "\n",
    "For the authorization callback URL, set the callback URI to a static page (e.g., https://localhost/callback) and, after authorization, GitHub will redirect you there with the code in the URL. You can manually copy the code from the browser’s address bar and use it to exchange for a token."
   ]
  },
  {
   "cell_type": "code",
   "execution_count": 14,
   "id": "259b6c88",
   "metadata": {
    "language_info": {
     "name": "polyglot-notebook"
    },
    "polyglot_notebook": {
     "kernelName": "pwsh"
    }
   },
   "outputs": [],
   "source": [
    "$env:CallbackUrl = \"https://localhost/callback\"\n",
    "$env:CallbackUrlEncoded = \"https%3A%2F%2Flocalhost%2Fcallback\""
   ]
  },
  {
   "cell_type": "markdown",
   "id": "3ff1d374",
   "metadata": {},
   "source": [
    "\n",
    "Store the client ID and client secret securely, as they will be needed in the next steps of the authentication flow. For this illustration, the client ID and client secret are stored in a .env file which is not checked into source control.\n"
   ]
  },
  {
   "cell_type": "code",
   "execution_count": 15,
   "id": "bd6966e5",
   "metadata": {
    "language_info": {
     "name": "polyglot-notebook"
    },
    "polyglot_notebook": {
     "kernelName": "pwsh"
    }
   },
   "outputs": [],
   "source": [
    "# Load .env file into the $dotenv hashtable\n",
    "$dotenv = & \"./Load-DotEnv.ps1\""
   ]
  },
  {
   "cell_type": "markdown",
   "id": "46752790",
   "metadata": {},
   "source": [
    "## Step 5 - User Authorization\n",
    "\n",
    "In this step, the client issues a GET request to the authorization endpoint obtained in Step 3. This request includes parameters such as the client ID, redirect URI, requested scopes, and response type (typically \"code\" for the authorization code flow). The user is then redirected to the authorization server's login page to authenticate and authorize the client application."
   ]
  },
  {
   "cell_type": "code",
   "execution_count": 16,
   "id": "f6ac0396",
   "metadata": {
    "language_info": {
     "name": "polyglot-notebook"
    },
    "polyglot_notebook": {
     "kernelName": "pwsh"
    }
   },
   "outputs": [
    {
     "name": "stdout",
     "output_type": "stream",
     "text": [
      "HTTP/2 302 \n",
      "date: Tue, 21 Oct 2025 05:12:04 GMT\n",
      "date: Tue, 21 Oct 2025 05:12:04 GMT\n",
      "content-type: text/html; charset=utf-8\n",
      "content-type: text/html; charset=utf-8\n",
      "content-length: 0\n",
      "content-length: 0\n",
      "vary: X-PJAX, X-PJAX-Container, Turbo-Visit, Turbo-Frame, X-Requested-With,Accept-Encoding, Accept, X-Requested-With\n",
      "vary: X-PJAX, X-PJAX-Container, Turbo-Visit, Turbo-Frame, X-Requested-With,Accept-Encoding, Accept, X-Requested-With\n",
      "location: https://github.com/login?client_id=Ov23liqNxVO8tTBkpYqe&return_to=%2Flogin%2Foauth%2Fauthorize%3Fclient_id%3DOv23liqNxVO8tTBkpYqe%26redirect_uri%3Dhttps%253A%252F%252Flocalhost%252Fcallback%26response_type%3Dcode%26scope%3Dopenid\n",
      "location: https://github.com/login?client_id=Ov23liqNxVO8tTBkpYqe&return_to=%2Flogin%2Foauth%2Fauthorize%3Fclient_id%3DOv23liqNxVO8tTBkpYqe%26redirect_uri%3Dhttps%253A%252F%252Flocalhost%252Fcallback%26response_type%3Dcode%26scope%3Dopenid\n",
      "cache-control: no-cache\n",
      "cache-control: no-cache\n",
      "set-cookie: _octo=GH1.1.657578288.1761023524; domain=github.com; path=/; expires=Wed, 21 Oct 2026 05:12:04 GMT; secure; SameSite=Lax\n",
      "set-cookie: _octo=GH1.1.657578288.1761023524; domain=github.com; path=/; expires=Wed, 21 Oct 2026 05:12:04 GMT; secure; SameSite=Lax\n",
      "set-cookie: _gh_sess=f7W6CFAo8kDGbc9uu1msr0phixPhC%2FsEQWsL3WLX3a2gKhpTvqhfZFgiD4V5SUMzD17OFdXiUlugYtbivJW3ZUx46L6Qg6nJ%2F79Ry7D%2F6qMcfK6ihYNjILsZ1%2FcJjIRtQJuhwj3GO9uQGGJi3KbkjHoi8vLhLXk7G7WbdoCf8fBKosJAc3ZizBcBwcjeVj6DlTp1GKlhFui7h3izfCTRPVX%2FHd1N9lJmwalWHJ%2FWxi2Jauwy--ZKsL5Ec0yCtgbcV5--R6FZ1NvozH6Qvx0Mnp4VWg%3D%3D; path=/; secure; HttpOnly; SameSite=Lax\n",
      "set-cookie: _gh_sess=f7W6CFAo8kDGbc9uu1msr0phixPhC%2FsEQWsL3WLX3a2gKhpTvqhfZFgiD4V5SUMzD17OFdXiUlugYtbivJW3ZUx46L6Qg6nJ%2F79Ry7D%2F6qMcfK6ihYNjILsZ1%2FcJjIRtQJuhwj3GO9uQGGJi3KbkjHoi8vLhLXk7G7WbdoCf8fBKosJAc3ZizBcBwcjeVj6DlTp1GKlhFui7h3izfCTRPVX%2FHd1N9lJmwalWHJ%2FWxi2Jauwy--ZKsL5Ec0yCtgbcV5--R6FZ1NvozH6Qvx0Mnp4VWg%3D%3D; path=/; secure; HttpOnly; SameSite=Lax\n",
      "strict-transport-security: max-age=31536000; includeSubdomains; preload\n",
      "strict-transport-security: max-age=31536000; includeSubdomains; preload\n",
      "x-frame-options: deny\n",
      "x-frame-options: deny\n",
      "x-content-type-options: nosniff\n",
      "x-content-type-options: nosniff\n",
      "x-xss-protection: 0\n",
      "x-xss-protection: 0\n",
      "referrer-policy: origin-when-cross-origin, strict-origin-when-cross-origin\n",
      "referrer-policy: origin-when-cross-origin, strict-origin-when-cross-origin\n",
      "content-security-policy: default-src 'none'; base-uri 'self'; child-src github.githubassets.com github.com/assets-cdn/worker/ github.com/assets/ gist.github.com/assets-cdn/worker/; connect-src 'self' uploads.github.com www.githubstatus.com collector.github.com raw.githubusercontent.com api.github.com github-cloud.s3.amazonaws.com github-production-repository-file-5c1aeb.s3.amazonaws.com github-production-upload-manifest-file-7fdce7.s3.amazonaws.com github-production-user-asset-6210df.s3.amazonaws.com *.rel.tunnels.api.visualstudio.com wss://*.rel.tunnels.api.visualstudio.com github.githubassets.com objects-origin.githubusercontent.com copilot-proxy.githubusercontent.com proxy.individual.githubcopilot.com proxy.business.githubcopilot.com proxy.enterprise.githubcopilot.com *.actions.githubusercontent.com wss://*.actions.githubusercontent.com productionresultssa0.blob.core.windows.net/ productionresultssa1.blob.core.windows.net/ productionresultssa2.blob.core.windows.net/ productionresultssa3.blob.core.windows.net/ productionresultssa4.blob.core.windows.net/ productionresultssa5.blob.core.windows.net/ productionresultssa6.blob.core.windows.net/ productionresultssa7.blob.core.windows.net/ productionresultssa8.blob.core.windows.net/ productionresultssa9.blob.core.windows.net/ productionresultssa10.blob.core.windows.net/ productionresultssa11.blob.core.windows.net/ productionresultssa12.blob.core.windows.net/ productionresultssa13.blob.core.windows.net/ productionresultssa14.blob.core.windows.net/ productionresultssa15.blob.core.windows.net/ productionresultssa16.blob.core.windows.net/ productionresultssa17.blob.core.windows.net/ productionresultssa18.blob.core.windows.net/ productionresultssa19.blob.core.windows.net/ github-production-repository-image-32fea6.s3.amazonaws.com github-production-release-asset-2e65be.s3.amazonaws.com insights.github.com wss://alive.github.com wss://alive-staging.github.com api.githubcopilot.com api.individual.githubcopilot.com api.business.githubcopilot.com api.enterprise.githubcopilot.com; font-src github.githubassets.com; form-action 'self' github.com gist.github.com copilot-workspace.githubnext.com objects-origin.githubusercontent.com; frame-ancestors 'none'; frame-src viewscreen.githubusercontent.com notebooks.githubusercontent.com; img-src 'self' data: blob: github.githubassets.com media.githubusercontent.com camo.githubusercontent.com identicons.github.com avatars.githubusercontent.com private-avatars.githubusercontent.com github-cloud.s3.amazonaws.com objects.githubusercontent.com release-assets.githubusercontent.com secured-user-images.githubusercontent.com/ user-images.githubusercontent.com/ private-user-images.githubusercontent.com opengraph.githubassets.com marketplace-screenshots.githubusercontent.com/ copilotprodattachments.blob.core.windows.net/github-production-copilot-attachments/ github-production-user-asset-6210df.s3.amazonaws.com customer-stories-feed.github.com spotlights-feed.github.com objects-origin.githubusercontent.com *.githubusercontent.com; manifest-src 'self'; media-src github.com user-images.githubusercontent.com/ secured-user-images.githubusercontent.com/ private-user-images.githubusercontent.com github-production-user-asset-6210df.s3.amazonaws.com gist.github.com; script-src github.githubassets.com; style-src 'unsafe-inline' github.githubassets.com; upgrade-insecure-requests; worker-src github.githubassets.com github.com/assets-cdn/worker/ github.com/assets/ gist.github.com/assets-cdn/worker/\n",
      "content-security-policy: default-src 'none'; base-uri 'self'; child-src github.githubassets.com github.com/assets-cdn/worker/ github.com/assets/ gist.github.com/assets-cdn/worker/; connect-src 'self' uploads.github.com www.githubstatus.com collector.github.com raw.githubusercontent.com api.github.com github-cloud.s3.amazonaws.com github-production-repository-file-5c1aeb.s3.amazonaws.com github-production-upload-manifest-file-7fdce7.s3.amazonaws.com github-production-user-asset-6210df.s3.amazonaws.com *.rel.tunnels.api.visualstudio.com wss://*.rel.tunnels.api.visualstudio.com github.githubassets.com objects-origin.githubusercontent.com copilot-proxy.githubusercontent.com proxy.individual.githubcopilot.com proxy.business.githubcopilot.com proxy.enterprise.githubcopilot.com *.actions.githubusercontent.com wss://*.actions.githubusercontent.com productionresultssa0.blob.core.windows.net/ productionresultssa1.blob.core.windows.net/ productionresultssa2.blob.core.windows.net/ productionresultssa3.blob.core.windows.net/ productionresultssa4.blob.core.windows.net/ productionresultssa5.blob.core.windows.net/ productionresultssa6.blob.core.windows.net/ productionresultssa7.blob.core.windows.net/ productionresultssa8.blob.core.windows.net/ productionresultssa9.blob.core.windows.net/ productionresultssa10.blob.core.windows.net/ productionresultssa11.blob.core.windows.net/ productionresultssa12.blob.core.windows.net/ productionresultssa13.blob.core.windows.net/ productionresultssa14.blob.core.windows.net/ productionresultssa15.blob.core.windows.net/ productionresultssa16.blob.core.windows.net/ productionresultssa17.blob.core.windows.net/ productionresultssa18.blob.core.windows.net/ productionresultssa19.blob.core.windows.net/ github-production-repository-image-32fea6.s3.amazonaws.com github-production-release-asset-2e65be.s3.amazonaws.com insights.github.com wss://alive.github.com wss://alive-staging.github.com api.githubcopilot.com api.individual.githubcopilot.com api.business.githubcopilot.com api.enterprise.githubcopilot.com; font-src github.githubassets.com; form-action 'self' github.com gist.github.com copilot-workspace.githubnext.com objects-origin.githubusercontent.com; frame-ancestors 'none'; frame-src viewscreen.githubusercontent.com notebooks.githubusercontent.com; img-src 'self' data: blob: github.githubassets.com media.githubusercontent.com camo.githubusercontent.com identicons.github.com avatars.githubusercontent.com private-avatars.githubusercontent.com github-cloud.s3.amazonaws.com objects.githubusercontent.com release-assets.githubusercontent.com secured-user-images.githubusercontent.com/ user-images.githubusercontent.com/ private-user-images.githubusercontent.com opengraph.githubassets.com marketplace-screenshots.githubusercontent.com/ copilotprodattachments.blob.core.windows.net/github-production-copilot-attachments/ github-production-user-asset-6210df.s3.amazonaws.com customer-stories-feed.github.com spotlights-feed.github.com objects-origin.githubusercontent.com *.githubusercontent.com; manifest-src 'self'; media-src github.com user-images.githubusercontent.com/ secured-user-images.githubusercontent.com/ private-user-images.githubusercontent.com github-production-user-asset-6210df.s3.amazonaws.com gist.github.com; script-src github.githubassets.com; style-src 'unsafe-inline' github.githubassets.com; upgrade-insecure-requests; worker-src github.githubassets.com github.com/assets-cdn/worker/ github.com/assets/ gist.github.com/assets-cdn/worker/\n",
      "server: github.com\n",
      "server: github.com\n",
      "x-github-request-id: D848:131198:F3DEC36:F5E707C:68F71624\n",
      "x-github-request-id: D848:131198:F3DEC36:F5E707C:68F71624\n",
      "\n",
      "\n"
     ]
    }
   ],
   "source": [
    "curl -s -D - -X GET `\n",
    "  -H \"Accept: application/json\" `\n",
    " \"$env:AuthorizeEndpoint\\?response_type=code&client_id=$($dotenv['ClientId'])&redirect_uri=$env:CallbackUrlEncoded&scope=$env:Scopes\""
   ]
  },
  {
   "cell_type": "markdown",
   "id": "9b8378aa",
   "metadata": {},
   "source": [
    "The response above is a HTTP 302 redirect to your specified callback URL with an authorization code included as a query parameter. The client will receive an authorization code in the query parameter at the redirect URI.\n",
    "\n",
    "Click on the link in the \"Location\" header and the redirect will open in a browser. Copy the code from the URL for the next step in the authentication flow."
   ]
  },
  {
   "cell_type": "code",
   "execution_count": 17,
   "id": "199ba6de",
   "metadata": {
    "language_info": {
     "name": "polyglot-notebook"
    },
    "polyglot_notebook": {
     "kernelName": "pwsh"
    }
   },
   "outputs": [],
   "source": [
    "$env:authCode=\"024b9deed45be9c0b83c\""
   ]
  },
  {
   "cell_type": "markdown",
   "id": "16034d55",
   "metadata": {},
   "source": [
    "Once the client has received the authorization code, it can exchange it for an access token using the token endpoint obtained in Step 3.\n",
    "The client sends a POST request to the token endpoint with parameters such as the client ID, client secret, authorization code, redirect URI, and grant type (typically \"authorization_code\"). The server responds with an access token (and optionally a refresh token) that the client can use to access protected resources on behalf of the user.\n",
    "\n",
    "The response of this request will include an access_token, which you can use to authenticate subsequent requests to the GitHub API."
   ]
  },
  {
   "cell_type": "code",
   "execution_count": 18,
   "id": "a5b8955a",
   "metadata": {
    "language_info": {
     "name": "polyglot-notebook"
    },
    "polyglot_notebook": {
     "kernelName": "pwsh"
    }
   },
   "outputs": [],
   "source": [
    "$body = @{\n",
    "    client_id = $dotenv['ClientId']\n",
    "    client_secret = $dotenv['ClientSecret']\n",
    "    code = $env:authCode\n",
    "    redirect_uri = $env:CallbackUrl\n",
    "} | ConvertTo-Json\n",
    "\n",
    "$response = curl -s -X POST `\n",
    "  -H \"Content-type: application/json\" `\n",
    "  -H \"Accept: application/json\" `\n",
    "  -d \"$body\" `\n",
    "  \"$env:TokenEndpoint\"\n",
    "\n",
    "$env:accessToken = ($response | ConvertFrom-Json).access_token"
   ]
  },
  {
   "cell_type": "markdown",
   "id": "7e39c9b1",
   "metadata": {},
   "source": [
    "## Step 6 - Making Authenticated Requests\n",
    "\n",
    "Here's an example of how to use the access token to make an authenticated request:"
   ]
  },
  {
   "cell_type": "code",
   "execution_count": 19,
   "id": "7f66ffcc",
   "metadata": {
    "language_info": {
     "name": "polyglot-notebook"
    },
    "polyglot_notebook": {
     "kernelName": "pwsh"
    }
   },
   "outputs": [
    {
     "name": "stdout",
     "output_type": "stream",
     "text": [
      "{\n",
      "  \"jsonrpc\": \"2.0\",\n",
      "  \"jsonrpc\": \"2.0\",\n",
      "  \"id\": 1,\n",
      "  \"id\": 1,\n",
      "  \"result\": {\n",
      "  \"result\": {\n",
      "    \"protocolVersion\": \"2025-06-18\",\n",
      "    \"protocolVersion\": \"2025-06-18\",\n",
      "    \"capabilities\": {\n",
      "    \"capabilities\": {\n",
      "      \"logging\": {},\n",
      "      \"logging\": {},\n",
      "      \"completion\": {},\n",
      "      \"completion\": {},\n",
      "      \"prompts\": {},\n",
      "      \"prompts\": {},\n",
      "      \"resources\": {\n",
      "      \"resources\": {\n",
      "        \"subscribe\": true,\n",
      "        \"subscribe\": true,\n",
      "        \"listChanged\": true\n",
      "        \"listChanged\": true\n",
      "      },\n",
      "      },\n",
      "      \"tools\": {\n",
      "      \"tools\": {\n",
      "        \"listChanged\": true\n",
      "        \"listChanged\": true\n",
      "      }\n",
      "      }\n",
      "    },\n",
      "    },\n",
      "    \"serverInfo\": {\n",
      "    \"serverInfo\": {\n",
      "      \"name\": \"github-mcp-server\",\n",
      "      \"name\": \"github-mcp-server\",\n",
      "      \"version\": \"github-mcp-server/remote-4435e7b2aa0960d5e55ceef719954f4b5616c253\"\n",
      "      \"version\": \"github-mcp-server/remote-4435e7b2aa0960d5e55ceef719954f4b5616c253\"\n",
      "    },\n",
      "    },\n",
      "    \"instructions\": \"The GitHub MCP Server provides tools to interact with GitHub platform.\\n\\nTool selection guidance:\\n\\t1. Use 'list_*' tools for broad, simple retrieval and pagination of all items of a type (e.g., all issues, all PRs, all branches) with basic filtering.\\n\\t2. Use 'search_*' tools for targeted queries with specific criteria, keywords, or complex filters (e.g., issues with certain text, PRs by author, code containing functions).\\n\\nContext management:\\n\\t1. Use pagination whenever possible with batches of 5-10 items.\\n\\t2. Use minimal_output parameter set to true if the full information is not needed to accomplish a task.\\n\\nTool usage guidance:\\n\\t1. For 'search_*' tools: Use separate 'sort' and 'order' parameters if available for sorting results - do not include 'sort:' syntax in query strings. Query strings should contain only search criteria (e.g., 'org:google language:python'), not sorting instructions. Always call 'get_me' first to understand current user permissions and context. ## Pull Requests\\n\\nPR review workflow: Always use 'pull_request_review_write' with method 'create' to create a pending review, then 'add_comment_to_pending_review' to add comments, and finally 'pull_request_review_write' with method 'submit_pending' to submit the review for complex reviews with line-specific comments. ## Issues\\n\\nCheck 'list_issue_types' first for organizations to use proper issue types. Use 'search_issues' before creating new issues to avoid duplicates. Always set 'state_reason' when closing issues.\"\n",
      "    \"instructions\": \"The GitHub MCP Server provides tools to interact with GitHub platform.\\n\\nTool selection guidance:\\n\\t1. Use 'list_*' tools for broad, simple retrieval and pagination of all items of a type (e.g., all issues, all PRs, all branches) with basic filtering.\\n\\t2. Use 'search_*' tools for targeted queries with specific criteria, keywords, or complex filters (e.g., issues with certain text, PRs by author, code containing functions).\\n\\nContext management:\\n\\t1. Use pagination whenever possible with batches of 5-10 items.\\n\\t2. Use minimal_output parameter set to true if the full information is not needed to accomplish a task.\\n\\nTool usage guidance:\\n\\t1. For 'search_*' tools: Use separate 'sort' and 'order' parameters if available for sorting results - do not include 'sort:' syntax in query strings. Query strings should contain only search criteria (e.g., 'org:google language:python'), not sorting instructions. Always call 'get_me' first to understand current user permissions and context. ## Pull Requests\\n\\nPR review workflow: Always use 'pull_request_review_write' with method 'create' to create a pending review, then 'add_comment_to_pending_review' to add comments, and finally 'pull_request_review_write' with method 'submit_pending' to submit the review for complex reviews with line-specific comments. ## Issues\\n\\nCheck 'list_issue_types' first for organizations to use proper issue types. Use 'search_issues' before creating new issues to avoid duplicates. Always set 'state_reason' when closing issues.\"\n",
      "  }\n",
      "  }\n",
      "}\n",
      "}\n"
     ]
    }
   ],
   "source": [
    "curl -s -X POST `\n",
    "  -H \"Authorization: Bearer $env:accessToken\" `\n",
    "  -H \"Content-Type: application/json\" `\n",
    "  -H \"Accept: application/json, text/event-stream\" `\n",
    "  -d '{\n",
    "    \"jsonrpc\": \"2.0\",\n",
    "    \"id\": 1,\n",
    "    \"method\": \"initialize\",\n",
    "    \"params\": {\n",
    "        \"clientInfo\": {\n",
    "            \"name\": \"Polyglot Notebook\",\n",
    "            \"version\": \"0.1.0\"\n",
    "        },\n",
    "        \"capabilities\": {},\n",
    "        \"protocolVersion\": \"2025-06-18\"\n",
    "    }\n",
    "}' `\n",
    " \"$env:McpServer\" | jq ."
   ]
  }
 ],
 "metadata": {
  "kernelspec": {
   "display_name": ".NET (C#)",
   "language": "C#",
   "name": ".net-csharp"
  },
  "language_info": {
   "name": "polyglot-notebook"
  },
  "polyglot_notebook": {
   "kernelInfo": {
    "defaultKernelName": "csharp",
    "items": [
     {
      "aliases": [],
      "languageName": "csharp",
      "name": "csharp"
     }
    ]
   }
  }
 },
 "nbformat": 4,
 "nbformat_minor": 5
}
